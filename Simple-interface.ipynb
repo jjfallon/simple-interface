{
 "cells": [
  {
   "cell_type": "markdown",
   "metadata": {},
   "source": [
    "# Simple model interface\n",
    "\n",
    "A mock up of using `jupyter` notebooks to create a very simple interface to a mode for non-techical customers to use. This uses `ipywidgets` to provide the interactivty and you need to run the following command:\n",
    "\n",
    "```bash\n",
    "jupyter nbextension enable --py widgetsnbextension\n",
    "```\n",
    "to enable you to use these widgets.\n",
    "\n",
    "It is not straightforward in `jupyter` to hide the code cells, so here all the code has been put into a file called `model_api.py`. This includes simple wrappers to commands you want the user to run. This files requires the packages `scikit-learn`, `wordcloud`, `matplotlib`, and `ipywidgets` to be installed.\n",
    "\n",
    "In this toy example text data from the 20 Newsgroups is retreived. You then specify which document you are interested in (the document IDs run from 0 to 11,313) and then you specify what you want to do with that document. You can view the text, show a word cloud, or pass it through a classifier (though here the classifier always returns one).\n",
    "\n",
    "In order to simplify this example the model is coded into the module, and the data loader is also within there. In practice you would probably want to pickle a pre-trained model and point the notebook at some saved data.\n",
    "\n",
    "\n",
    "---\n",
    "\n",
    "\n",
    "## Text document explorer\n",
    "\n",
    "Load the explorer."
   ]
  },
  {
   "cell_type": "code",
   "execution_count": 1,
   "metadata": {},
   "outputs": [],
   "source": [
    "from model_api import *"
   ]
  },
  {
   "cell_type": "markdown",
   "metadata": {},
   "source": [
    "Specify the document ID of interest (between 0 and 11,313) and what you wish to do."
   ]
  },
  {
   "cell_type": "code",
   "execution_count": 2,
   "metadata": {},
   "outputs": [
    {
     "data": {
      "application/vnd.jupyter.widget-view+json": {
       "model_id": "90cda7a4715e437aa1490d543b563102",
       "version_major": 2,
       "version_minor": 0
      },
      "text/plain": [
       "aW50ZXJhY3RpdmUoY2hpbGRyZW49KFJhZGlvQnV0dG9ucyhkZXNjcmlwdGlvbj11JyAgJywgb3B0aW9ucz0oJ05vdGhpbmcnLCAnVmlldyB0ZXh0JywgJ1Nob3cgd29yZCBjbG91ZCcsICdDbGHigKY=\n"
      ]
     },
     "metadata": {},
     "output_type": "display_data"
    }
   ],
   "source": [
    "choose_what_to_do()"
   ]
  }
 ],
 "metadata": {
  "kernelspec": {
   "display_name": "Python 2",
   "language": "python",
   "name": "python2"
  },
  "language_info": {
   "codemirror_mode": {
    "name": "ipython",
    "version": 2
   },
   "file_extension": ".py",
   "mimetype": "text/x-python",
   "name": "python",
   "nbconvert_exporter": "python",
   "pygments_lexer": "ipython2",
   "version": "2.7.15rc1"
  }
 },
 "nbformat": 4,
 "nbformat_minor": 2
}
